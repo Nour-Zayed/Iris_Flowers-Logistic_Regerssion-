{
 "cells": [
  {
   "cell_type": "code",
   "execution_count": 17,
   "id": "fbc1b930-337a-42fc-9921-64f347951d14",
   "metadata": {},
   "outputs": [],
   "source": [
    "from sklearn.linear_model  import LogisticRegression\n",
    "from sklearn import datasets\n",
    "from sklearn.preprocessing import StandardScaler\n",
    "\n"
   ]
  },
  {
   "cell_type": "code",
   "execution_count": 18,
   "id": "07e8da27-9e4d-4b54-9ef0-638716977b00",
   "metadata": {},
   "outputs": [],
   "source": [
    "iris=datasets.load_iris()\n",
    "x=iris.data\n",
    "y=iris.target\n"
   ]
  },
  {
   "cell_type": "code",
   "execution_count": 19,
   "id": "17e35fc2-853a-4200-9386-cc45a39ca768",
   "metadata": {},
   "outputs": [],
   "source": [
    "scaler=StandardScaler()\n",
    "x_std=scaler.fit_transform(x)\n"
   ]
  },
  {
   "cell_type": "code",
   "execution_count": 20,
   "id": "2c964c84-ebe5-4e1f-a35b-6d6b5fdbb38c",
   "metadata": {},
   "outputs": [],
   "source": [
    "clf=LogisticRegression(multi_class=\"ovr\",random_state=0)\n"
   ]
  },
  {
   "cell_type": "code",
   "execution_count": 21,
   "id": "5c5eb2f7",
   "metadata": {},
   "outputs": [],
   "source": [
    "model=clf.fit(x_std,y)"
   ]
  },
  {
   "cell_type": "code",
   "execution_count": 22,
   "id": "06414ce6",
   "metadata": {},
   "outputs": [],
   "source": [
    "n=[[4.9,3,1.4,.2]]\n"
   ]
  },
  {
   "cell_type": "code",
   "execution_count": 23,
   "id": "2ac04ced",
   "metadata": {},
   "outputs": [
    {
     "data": {
      "text/plain": [
       "array([2])"
      ]
     },
     "execution_count": 23,
     "metadata": {},
     "output_type": "execute_result"
    }
   ],
   "source": [
    "model.predict(n)"
   ]
  },
  {
   "cell_type": "code",
   "execution_count": 24,
   "id": "b8eeda5d",
   "metadata": {},
   "outputs": [
    {
     "data": {
      "text/plain": [
       "array([[0.00281441, 0.10030894, 0.89687665]])"
      ]
     },
     "execution_count": 24,
     "metadata": {},
     "output_type": "execute_result"
    }
   ],
   "source": [
    "model.predict_proba(n)"
   ]
  },
  {
   "cell_type": "code",
   "execution_count": null,
   "id": "d3be3bd4",
   "metadata": {},
   "outputs": [],
   "source": []
  }
 ],
 "metadata": {
  "kernelspec": {
   "display_name": "Python 3 (ipykernel)",
   "language": "python",
   "name": "python3"
  },
  "language_info": {
   "codemirror_mode": {
    "name": "ipython",
    "version": 3
   },
   "file_extension": ".py",
   "mimetype": "text/x-python",
   "name": "python",
   "nbconvert_exporter": "python",
   "pygments_lexer": "ipython3",
   "version": "3.11.5"
  }
 },
 "nbformat": 4,
 "nbformat_minor": 5
}
